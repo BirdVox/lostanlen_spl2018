{
 "cells": [
  {
   "cell_type": "code",
   "execution_count": 42,
   "metadata": {},
   "outputs": [
    {
     "name": "stderr",
     "output_type": "stream",
     "text": [
      "\n",
      "\n",
      "  0%|          | 0/15 [00:00<?, ?it/s]\u001b[A\u001b[A\n",
      "\n",
      "  7%|▋         | 1/15 [00:02<00:41,  2.98s/it]\u001b[A\u001b[A\n",
      "\n",
      " 13%|█▎        | 2/15 [00:05<00:38,  2.98s/it]\u001b[A\u001b[A\n",
      "\n",
      " 20%|██        | 3/15 [00:08<00:35,  2.98s/it]\u001b[A\u001b[A\n",
      "\n",
      " 27%|██▋       | 4/15 [00:11<00:32,  2.98s/it]\u001b[A\u001b[A\n",
      "\n",
      " 33%|███▎      | 5/15 [00:14<00:29,  2.98s/it]\u001b[A\u001b[A\n",
      "\n",
      " 40%|████      | 6/15 [00:17<00:26,  2.98s/it]\u001b[A\u001b[A\n",
      "\n",
      " 47%|████▋     | 7/15 [00:20<00:23,  2.98s/it]\u001b[A\u001b[A\n",
      "\n",
      " 53%|█████▎    | 8/15 [00:23<00:20,  2.98s/it]\u001b[A\u001b[A\n",
      "\n",
      " 60%|██████    | 9/15 [00:26<00:17,  2.98s/it]\u001b[A\u001b[A\n",
      "\n",
      " 67%|██████▋   | 10/15 [00:29<00:14,  2.98s/it]\u001b[A\u001b[A\n",
      "\n",
      " 73%|███████▎  | 11/15 [00:32<00:11,  2.98s/it]\u001b[A\u001b[A\n",
      "\n",
      " 80%|████████  | 12/15 [00:35<00:08,  2.98s/it]\u001b[A\u001b[A\n",
      "\n",
      " 87%|████████▋ | 13/15 [00:38<00:05,  2.98s/it]\u001b[A\u001b[A\n",
      "\n",
      " 93%|█████████▎| 14/15 [00:41<00:02,  2.98s/it]\u001b[A\u001b[A\n",
      "\n",
      "100%|██████████| 15/15 [00:44<00:00,  2.99s/it]\u001b[A\u001b[A\n",
      "\n",
      "\u001b[A\u001b[A"
     ]
    }
   ],
   "source": [
    "import glob\n",
    "import librosa\n",
    "import librosa.display\n",
    "from matplotlib import pyplot as plt\n",
    "import numpy as np\n",
    "import os\n",
    "import tqdm\n",
    "import scipy\n",
    "import soundfile as sf\n",
    "\n",
    "\n",
    "subfolder_str = \"BirdVox-pcen\"\n",
    "data_dir = '/beegfs/vl1019/spl2018_datasets'\n",
    "\n",
    "%matplotlib inline\n",
    "\n",
    "indoor_settings = {\n",
    "    \"fmin\": 2000,\n",
    "    \"fmax\": 11025,\n",
    "    \"hop_length\": 32,\n",
    "    \"n_fft\": 1024,\n",
    "    \"n_mels\": 128,\n",
    "    \"sr\": 22050,\n",
    "    \"win_length\": 256,\n",
    "    \"window\": \"hann\",\n",
    "    \"T\": 0.4,\n",
    "    \"alpha\": 0.98,\n",
    "    \"delta\": 2.0,\n",
    "    \"r\": 0.5,\n",
    "    \"eps\": 1e-6}\n",
    "\n",
    "\n",
    "outdoor_settings = {\n",
    "    \"fmin\": 2000,\n",
    "    \"fmax\": 11025,\n",
    "    \"hop_length\": 32,\n",
    "    \"n_fft\": 1024,\n",
    "    \"n_mels\": 128,\n",
    "    \"sr\": 22050,\n",
    "    \"win_length\": 256,\n",
    "    \"window\": \"flattop\",\n",
    "    \"T\": 0.06,\n",
    "    \"alpha\": 0.8,\n",
    "    \"delta\": 10.0,\n",
    "    \"r\": 0.25,\n",
    "    \"eps\": 1e-6}\n",
    "\n",
    "\n",
    "\n",
    "\n",
    "subfolder_dir = os.path.join(data_dir, subfolder_str)\n",
    "wav_names = list(glob.glob(os.path.join(subfolder_dir, \"*.wav\")))\n",
    "wav_paths = sorted([os.path.join(subfolder_dir, x) for x in wav_names])\n",
    "n_files = len(wav_paths)\n",
    "\n",
    "for file_id in tqdm.tqdm(range(n_files)):\n",
    "    wav_path = wav_paths[file_id]\n",
    "    \n",
    "    waveform_file = sf.SoundFile(wav_path)\n",
    "    waveform_length = len(waveform_file)\n",
    "    sample_rate = waveform_file.samplerate\n",
    "    waveform_file.seek(0)\n",
    "    waveform = waveform_file.read(waveform_length)\n",
    "    waveform = librosa.resample(\n",
    "        waveform, sample_rate, outdoor_settings[\"sr\"])\n",
    "    waveform = waveform * (2**31)\n",
    "\n",
    "    # Compute Short-Term Fourier Transform (STFT).\n",
    "    # The settings are the same for indoor and outdoor here.\n",
    "    stft = librosa.stft(\n",
    "        waveform,\n",
    "        n_fft=outdoor_settings[\"n_fft\"],\n",
    "        win_length=outdoor_settings[\"win_length\"],\n",
    "        hop_length=outdoor_settings[\"hop_length\"],\n",
    "        window=outdoor_settings[\"window\"])\n",
    "\n",
    "\n",
    "    # Compute squared magnitude coefficients.\n",
    "    abs2_stft = (stft.real*stft.real) + (stft.imag*stft.imag)\n",
    "    \n",
    "    # Again, same settings for indoor and outdoor.\n",
    "    E = librosa.feature.melspectrogram(\n",
    "        y=None,\n",
    "        S=abs2_stft,\n",
    "        sr=outdoor_settings[\"sr\"],\n",
    "        n_fft=outdoor_settings[\"n_fft\"],\n",
    "        n_mels=outdoor_settings[\"n_mels\"],\n",
    "        htk=True,\n",
    "        fmin=outdoor_settings[\"fmin\"],\n",
    "        fmax=outdoor_settings[\"fmax\"])\n",
    "\n",
    "    \n",
    "    ## \"INDOOR\" MODE.\n",
    "    indoor_PCEN = librosa.pcen(\n",
    "        S=E,\n",
    "        time_constant=indoor_settings[\"T\"],\n",
    "        sr=indoor_settings[\"sr\"],\n",
    "        hop_length=indoor_settings[\"hop_length\"],\n",
    "        gain=indoor_settings[\"alpha\"],\n",
    "        power=indoor_settings[\"r\"],\n",
    "        bias=indoor_settings[\"delta\"],\n",
    "        eps=indoor_settings[\"eps\"])\n",
    "    \n",
    "    \n",
    "    ## \"OUTDOOR\" MODE.\n",
    "    outdoor_PCEN = librosa.pcen(\n",
    "        S=E,\n",
    "        time_constant=outdoor_settings[\"T\"],\n",
    "        sr=outdoor_settings[\"sr\"],\n",
    "        hop_length=outdoor_settings[\"hop_length\"],\n",
    "        gain=outdoor_settings[\"alpha\"],\n",
    "        power=outdoor_settings[\"r\"],\n",
    "        bias=outdoor_settings[\"delta\"],\n",
    "        eps=outdoor_settings[\"eps\"])\n",
    "\n",
    "\n",
    "    E_ravel = E.ravel()\n",
    "    log_E_ravel = np.log(1e-6+E_ravel)\n",
    "    \n",
    "    indoor_PCEN_ravel = indoor_PCEN.ravel()\n",
    "    outdoor_PCEN_ravel = outdoor_PCEN.ravel()"
   ]
  },
  {
   "cell_type": "code",
   "execution_count": null,
   "metadata": {},
   "outputs": [],
   "source": [
    "2+2"
   ]
  },
  {
   "cell_type": "code",
   "execution_count": 41,
   "metadata": {
    "scrolled": true
   },
   "outputs": [
    {
     "name": "stderr",
     "output_type": "stream",
     "text": [
      "/home/vl1019/miniconda3/envs/bvfs/lib/python3.5/site-packages/matplotlib/cbook/__init__.py:424: MatplotlibDeprecationWarning: \n",
      "Passing one of 'on', 'true', 'off', 'false' as a boolean is deprecated; use an actual boolean (True/False) instead.\n",
      "  warn_deprecated(\"2.2\", \"Passing one of 'on', 'true', 'off', 'false' as a \"\n"
     ]
    },
    {
     "name": "stdout",
     "output_type": "stream",
     "text": [
      "0.32683342700485396\n",
      "1.6455544845688221\n",
      "6.281495214610616\n",
      "104.34765956258379\n",
      "0.7138282753115041\n",
      "0.8850558882396093\n"
     ]
    },
    {
     "data": {
      "image/png": "[encoded data removed]",
      "text/plain": [
       "<Figure size 288x216 with 1 Axes>"
      ]
     },
     "metadata": {
      "needs_background": "light"
     },
     "output_type": "display_data"
    },
    {
     "data": {
      "image/png": "[encoded data removed]",
      "text/plain": [
       "<Figure size 288x216 with 1 Axes>"
      ]
     },
     "metadata": {
      "needs_background": "light"
     },
     "output_type": "display_data"
    },
    {
     "data": {
      "image/png": "[encoded data removed]",
      "text/plain": [
       "<Figure size 288x216 with 1 Axes>"
      ]
     },
     "metadata": {
      "needs_background": "light"
     },
     "output_type": "display_data"
    }
   ],
   "source": [
    "\n",
    "figsize = (4, 3)\n",
    "fig = plt.figure(figsize=figsize)\n",
    "xgauss = np.linspace(-4, 4, 100)\n",
    "hist_x = plt.hist(\n",
    "    (log_E_ravel - np.mean(log_E_ravel)) / np.std(log_E_ravel),\n",
    "    bins=xgauss);\n",
    "hist_step = np.diff(hist_x[1])[0]\n",
    "gaussmax = len(log_E_ravel)/np.sqrt(2*np.pi) * hist_step\n",
    "ygauss = gaussmax * np.exp(-(xgauss*xgauss)/2)\n",
    "plt.plot(xgauss, ygauss, '--', color=\"#E67300\", linewidth=4.0)\n",
    "plt.xlim([-4,4])\n",
    "plt.ylim([0, 2.5*gaussmax])\n",
    "ax = plt.gca()\n",
    "ax.spines['top'].set_visible(False)\n",
    "ax.spines['left'].set_visible(False)\n",
    "ax.spines['right'].set_visible(False)\n",
    "plt.tick_params(labelleft=\"off\", left=\"off\")\n",
    "print(scipy.stats.skew(log_E_ravel))\n",
    "print(scipy.stats.kurtosis(log_E_ravel))\n",
    "plt.gca().axes.get_xaxis().set_visible(False)\n",
    "fig.savefig(subfolder_str + '_logE_histogram.eps',\n",
    "    transparent=True, bbox_inches=\"tight\")\n",
    "\n",
    "\n",
    "fig = plt.figure(figsize=figsize, frameon=False)\n",
    "plt.hist((indoor_PCEN_ravel - np.mean(indoor_PCEN_ravel)) / np.std(indoor_PCEN_ravel), bins=xgauss);\n",
    "plt.plot(xgauss, ygauss, '--', color=\"#E67300\", linewidth=4.0)\n",
    "plt.xlim([-4,4])\n",
    "plt.ylim([0, 2.5*gaussmax])\n",
    "ax = plt.gca()\n",
    "ax.spines['top'].set_visible(False)\n",
    "ax.spines['left'].set_visible(False)\n",
    "ax.spines['right'].set_visible(False)\n",
    "plt.tick_params(labelleft=\"off\", left=\"off\")\n",
    "print(scipy.stats.skew(indoor_PCEN_ravel))\n",
    "print(scipy.stats.kurtosis(indoor_PCEN_ravel))\n",
    "plt.gca().axes.get_xaxis().set_visible(False)\n",
    "fig.savefig(subfolder_str + '_indoor-PCEN_histogram.eps',\n",
    "    transparent=True, bbox_inches=\"tight\")\n",
    "\n",
    "\n",
    "fig = plt.figure(figsize=figsize, frameon=False)\n",
    "plt.hist((outdoor_PCEN_ravel - np.mean(outdoor_PCEN_ravel)) / np.std(outdoor_PCEN_ravel), bins=xgauss);\n",
    "plt.plot(xgauss, ygauss, '--', color=\"#E67300\", linewidth=4.0)\n",
    "plt.xlim([-4,4])\n",
    "plt.ylim([0, 2.5*gaussmax])\n",
    "ax = plt.gca()\n",
    "ax.spines['top'].set_visible(False)\n",
    "ax.spines['left'].set_visible(False)\n",
    "ax.spines['right'].set_visible(False)\n",
    "plt.tick_params(labelleft=\"off\", left=\"off\")\n",
    "print(scipy.stats.skew(outdoor_PCEN_ravel))\n",
    "print(scipy.stats.kurtosis(outdoor_PCEN_ravel))\n",
    "plt.gca().axes.get_xaxis().set_visible(False)\n",
    "fig.savefig(subfolder_str + '_outdoor-PCEN_histogram.eps',\n",
    "    transparent=True, bbox_inches=\"tight\")"
   ]
  },
  {
   "cell_type": "code",
   "execution_count": 34,
   "metadata": {},
   "outputs": [
    {
     "data": {
      "text/plain": [
       "[<matplotlib.lines.Line2D at 0x2b0c210874a8>]"
      ]
     },
     "execution_count": 34,
     "metadata": {},
     "output_type": "execute_result"
    },
    {
     "data": {
      "image/png": "[encoded data removed]",
      "text/plain": [
       "<Figure size 432x288 with 1 Axes>"
      ]
     },
     "metadata": {
      "needs_background": "light"
     },
     "output_type": "display_data"
    }
   ],
   "source": [
    "waveform_file = sf.SoundFile(wav_path)\n",
    "waveform_length = len(waveform_file)\n",
    "sample_rate = waveform_file.samplerate\n",
    "waveform_file.seek(0)\n",
    "waveform = waveform_file.read(waveform_length)\n",
    "waveform = librosa.resample(\n",
    "    waveform, sample_rate, outdoor_settings[\"sr\"])\n",
    "waveform = waveform * (2**31)\n",
    "plt.plot(waveform)"
   ]
  },
  {
   "cell_type": "code",
   "execution_count": null,
   "metadata": {},
   "outputs": [],
   "source": []
  }
 ],
 "metadata": {
  "kernelspec": {
   "display_name": "Python 3",
   "language": "python",
   "name": "python3"
  }
 },
 "nbformat": 4,
 "nbformat_minor": 2
}
