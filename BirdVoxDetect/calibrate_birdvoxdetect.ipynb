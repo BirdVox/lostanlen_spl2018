{
 "cells": [
  {
   "cell_type": "code",
   "execution_count": 4,
   "metadata": {},
   "outputs": [
    {
     "name": "stderr",
     "output_type": "stream",
     "text": [
      "  0%|          | 0/15 [00:00<?, ?it/s]\n"
     ]
    },
    {
     "ename": "NameError",
     "evalue": "name 'indoor_E_ravel' is not defined",
     "output_type": "error",
     "traceback": [
      "\u001b[0;31m---------------------------------------------------------------------------\u001b[0m",
      "\u001b[0;31mNameError\u001b[0m                                 Traceback (most recent call last)",
      "\u001b[0;32m<ipython-input-4-264e6dcd5b97>\u001b[0m in \u001b[0;36m<module>\u001b[0;34m()\u001b[0m\n\u001b[1;32m    125\u001b[0m \u001b[0;34m\u001b[0m\u001b[0m\n\u001b[1;32m    126\u001b[0m     \u001b[0mE_ravel\u001b[0m \u001b[0;34m=\u001b[0m \u001b[0mE\u001b[0m\u001b[0;34m.\u001b[0m\u001b[0mravel\u001b[0m\u001b[0;34m(\u001b[0m\u001b[0;34m)\u001b[0m\u001b[0;34m\u001b[0m\u001b[0m\n\u001b[0;32m--> 127\u001b[0;31m     \u001b[0mlog_E_ravel\u001b[0m \u001b[0;34m=\u001b[0m \u001b[0mnp\u001b[0m\u001b[0;34m.\u001b[0m\u001b[0mlog\u001b[0m\u001b[0;34m(\u001b[0m\u001b[0;36m1e-6\u001b[0m\u001b[0;34m+\u001b[0m\u001b[0mindoor_E_ravel\u001b[0m\u001b[0;34m)\u001b[0m\u001b[0;34m\u001b[0m\u001b[0m\n\u001b[0m\u001b[1;32m    128\u001b[0m \u001b[0;34m\u001b[0m\u001b[0m\n\u001b[1;32m    129\u001b[0m     \u001b[0mindoor_PCEN_ravel\u001b[0m \u001b[0;34m=\u001b[0m \u001b[0mindoor_PCEN\u001b[0m\u001b[0;34m.\u001b[0m\u001b[0mravel\u001b[0m\u001b[0;34m(\u001b[0m\u001b[0;34m)\u001b[0m\u001b[0;34m\u001b[0m\u001b[0m\n",
      "\u001b[0;31mNameError\u001b[0m: name 'indoor_E_ravel' is not defined"
     ]
    }
   ],
   "source": [
    "import glob\n",
    "import librosa\n",
    "import librosa.display\n",
    "from matplotlib import pyplot as plt\n",
    "import numpy as np\n",
    "import os\n",
    "import tqdm\n",
    "import scipy\n",
    "import soundfile as sf\n",
    "\n",
    "\n",
    "subfolder_str = \"BirdVox-pcen\"\n",
    "data_dir = '/beegfs/vl1019/spl2018_datasets'\n",
    "\n",
    "%matplotlib inline\n",
    "\n",
    "indoor_settings = {\n",
    "    \"fmin\": 2000,\n",
    "    \"fmax\": 11025,\n",
    "    \"hop_length\": 32,\n",
    "    \"n_fft\": 1024,\n",
    "    \"n_mels\": 128,\n",
    "    \"sr\": 22050,\n",
    "    \"win_length\": 256,\n",
    "    \"window\": \"hann\",\n",
    "    \"T\": 0.4,\n",
    "    \"alpha\": 0.98,\n",
    "    \"delta\": 2.0,\n",
    "    \"r\": 0.5,\n",
    "    \"eps\": 1e-6}\n",
    "\n",
    "\n",
    "outdoor_settings = {\n",
    "    \"fmin\": 2000,\n",
    "    \"fmax\": 11025,\n",
    "    \"hop_length\": 32,\n",
    "    \"n_fft\": 1024,\n",
    "    \"n_mels\": 128,\n",
    "    \"sr\": 22050,\n",
    "    \"win_length\": 256,\n",
    "    \"window\": \"flattop\",\n",
    "    \"T\": 0.06,\n",
    "    \"alpha\": 0.8,\n",
    "    \"delta\": 10.0,\n",
    "    \"r\": 0.25,\n",
    "    \"eps\": 1e-6}\n",
    "\n",
    "\n",
    "\n",
    "\n",
    "subfolder_dir = os.path.join(data_dir, subfolder_str)\n",
    "wav_names = list(glob.glob(os.path.join(subfolder_dir, \"*.wav\")))\n",
    "wav_paths = sorted([os.path.join(subfolder_dir, x) for x in wav_names])\n",
    "n_files = len(wav_paths)\n",
    "\n",
    "for file_id in tqdm.tqdm(range(n_files)):\n",
    "    wav_path = wav_paths[file_id]\n",
    "    \n",
    "    waveform_file = sf.SoundFile(wav_path)\n",
    "    waveform_length = len(waveform_file)\n",
    "    sample_rate = waveform_file.samplerate\n",
    "    waveform_file.seek(0)\n",
    "    waveform = waveform_file.read(waveform_length)\n",
    "    waveform = librosa.resample(\n",
    "        waveform, sample_rate, outdoor_settings[\"sr\"])\n",
    "    waveform = waveform * (2**31)\n",
    "\n",
    "    # Compute Short-Term Fourier Transform (STFT).\n",
    "    # The settings are the same for indoor and outdoor here.\n",
    "    stft = librosa.stft(\n",
    "        waveform,\n",
    "        n_fft=outdoor_settings[\"n_fft\"],\n",
    "        win_length=outdoor_settings[\"win_length\"],\n",
    "        hop_length=outdoor_settings[\"hop_length\"],\n",
    "        window=outdoor_settings[\"window\"])\n",
    "\n",
    "\n",
    "    # Compute squared magnitude coefficients.\n",
    "    abs2_stft = (stft.real*stft.real) + (stft.imag*stft.imag)\n",
    "    \n",
    "    \n",
    "    ## \"INDOOR\" MODE.\n",
    "    indoor_E = librosa.feature.melspectrogram(\n",
    "        y=None,\n",
    "        S=abs2_stft,\n",
    "        sr=indoor_settings[\"sr\"],\n",
    "        n_fft=indoor_settings[\"n_fft\"],\n",
    "        n_mels=indoor_settings[\"n_mels\"],\n",
    "        htk=True,\n",
    "        fmin=indoor_settings[\"fmin\"],\n",
    "        fmax=indoor_settings[\"fmax\"])\n",
    "\n",
    "    indoor_PCEN = librosa.pcen(\n",
    "        S=indoor_E,\n",
    "        time_constant=indoor_settings[\"T\"],\n",
    "        sr=indoor_settings[\"sr\"],\n",
    "        hop_length=indoor_settings[\"hop_length\"],\n",
    "        gain=indoor_settings[\"alpha\"],\n",
    "        power=indoor_settings[\"r\"],\n",
    "        bias=indoor_settings[\"delta\"],\n",
    "        eps=indoor_settings[\"eps\"])\n",
    "    \n",
    "    \n",
    "    ## \"OUTDOOR\" MODE.\n",
    "    outdoor_E = librosa.feature.melspectrogram(\n",
    "        y=None,\n",
    "        S=abs2_stft,\n",
    "        sr=indoor_settings[\"sr\"],\n",
    "        n_fft=indoor_settings[\"n_fft\"],\n",
    "        n_mels=indoor_settings[\"n_mels\"],\n",
    "        htk=True,\n",
    "        fmin=indoor_settings[\"fmin\"],\n",
    "        fmax=indoor_settings[\"fmax\"])\n",
    "        \n",
    "    outdoor_PCEN = librosa.pcen(\n",
    "        S=E,\n",
    "        time_constant=outdoor_settings[\"T\"],\n",
    "        sr=outdoor_settings[\"sr\"],\n",
    "        hop_length=outdoor_settings[\"hop_length\"],\n",
    "        gain=outdoor_settings[\"alpha\"],\n",
    "        power=outdoor_settings[\"r\"],\n",
    "        bias=outdoor_settings[\"delta\"],\n",
    "        eps=outdoor_settings[\"eps\"])\n",
    "\n",
    "\n",
    "    E_ravel = E.ravel()\n",
    "    log_E_ravel = np.log(1e-6+indoor_E_ravel)\n",
    "    \n",
    "    indoor_PCEN_ravel = indoor_PCEN.ravel()\n",
    "    outdoor_PCEN_ravel = outdoor_PCEN.ravel()"
   ]
  },
  {
   "cell_type": "code",
   "execution_count": null,
   "metadata": {},
   "outputs": [],
   "source": [
    "2+2"
   ]
  },
  {
   "cell_type": "code",
   "execution_count": 2,
   "metadata": {
    "scrolled": true
   },
   "outputs": [
    {
     "name": "stderr",
     "output_type": "stream",
     "text": [
      "/home/vl1019/miniconda3/envs/bvfs/lib/python3.5/site-packages/matplotlib/cbook/__init__.py:424: MatplotlibDeprecationWarning: \n",
      "Passing one of 'on', 'true', 'off', 'false' as a boolean is deprecated; use an actual boolean (True/False) instead.\n",
      "  warn_deprecated(\"2.2\", \"Passing one of 'on', 'true', 'off', 'false' as a \"\n"
     ]
    },
    {
     "name": "stdout",
     "output_type": "stream",
     "text": [
      "0.2779565588950271\n",
      "1.989908189200012\n",
      "6.504453792001011\n",
      "107.61317401504382\n",
      "0.765353501288353\n",
      "1.1098121550731692\n"
     ]
    },
    {
     "data": {
      "image/png": "[encoded data removed]",
      "text/plain": [
       "<Figure size 288x216 with 1 Axes>"
      ]
     },
     "metadata": {
      "needs_background": "light"
     },
     "output_type": "display_data"
    },
    {
     "data": {
      "image/png": "[encoded data removed]",
      "text/plain": [
       "<Figure size 288x216 with 1 Axes>"
      ]
     },
     "metadata": {
      "needs_background": "light"
     },
     "output_type": "display_data"
    },
    {
     "data": {
      "image/png": "[encoded data removed]",
      "text/plain": [
       "<Figure size 288x216 with 1 Axes>"
      ]
     },
     "metadata": {
      "needs_background": "light"
     },
     "output_type": "display_data"
    }
   ],
   "source": [
    "\n",
    "figsize = (4, 3)\n",
    "fig = plt.figure(figsize=figsize)\n",
    "xgauss = np.linspace(-4, 4, 100)\n",
    "hist_x = plt.hist(\n",
    "    (log_E_ravel - np.mean(log_E_ravel)) / np.std(log_E_ravel),\n",
    "    bins=xgauss);\n",
    "hist_step = np.diff(hist_x[1])[0]\n",
    "gaussmax = len(log_E_ravel)/np.sqrt(2*np.pi) * hist_step\n",
    "ygauss = gaussmax * np.exp(-(xgauss*xgauss)/2)\n",
    "plt.plot(xgauss, ygauss, '--', color=\"#E67300\", linewidth=4.0)\n",
    "plt.xlim([-4,4])\n",
    "plt.ylim([0, 2.5*gaussmax])\n",
    "ax = plt.gca()\n",
    "ax.spines['top'].set_visible(False)\n",
    "ax.spines['left'].set_visible(False)\n",
    "ax.spines['right'].set_visible(False)\n",
    "plt.tick_params(labelleft=\"off\", left=\"off\")\n",
    "print(scipy.stats.skew(log_E_ravel))\n",
    "print(scipy.stats.kurtosis(log_E_ravel))\n",
    "plt.gca().axes.get_xaxis().set_visible(False)\n",
    "fig.savefig(subfolder_str + '_logE_histogram.eps',\n",
    "    transparent=True, bbox_inches=\"tight\")\n",
    "\n",
    "\n",
    "fig = plt.figure(figsize=figsize, frameon=False)\n",
    "plt.hist((indoor_PCEN_ravel - np.mean(indoor_PCEN_ravel)) / np.std(indoor_PCEN_ravel), bins=xgauss);\n",
    "plt.plot(xgauss, ygauss, '--', color=\"#E67300\", linewidth=4.0)\n",
    "plt.xlim([-4,4])\n",
    "plt.ylim([0, 2.5*gaussmax])\n",
    "ax = plt.gca()\n",
    "ax.spines['top'].set_visible(False)\n",
    "ax.spines['left'].set_visible(False)\n",
    "ax.spines['right'].set_visible(False)\n",
    "plt.tick_params(labelleft=\"off\", left=\"off\")\n",
    "print(scipy.stats.skew(indoor_PCEN_ravel))\n",
    "print(scipy.stats.kurtosis(indoor_PCEN_ravel))\n",
    "plt.gca().axes.get_xaxis().set_visible(False)\n",
    "fig.savefig(subfolder_str + '_indoor-PCEN_histogram.eps',\n",
    "    transparent=True, bbox_inches=\"tight\")\n",
    "\n",
    "\n",
    "fig = plt.figure(figsize=figsize, frameon=False)\n",
    "plt.hist((outdoor_PCEN_ravel - np.mean(outdoor_PCEN_ravel)) / np.std(outdoor_PCEN_ravel), bins=xgauss);\n",
    "plt.plot(xgauss, ygauss, '--', color=\"#E67300\", linewidth=4.0)\n",
    "plt.xlim([-4,4])\n",
    "plt.ylim([0, 2.5*gaussmax])\n",
    "ax = plt.gca()\n",
    "ax.spines['top'].set_visible(False)\n",
    "ax.spines['left'].set_visible(False)\n",
    "ax.spines['right'].set_visible(False)\n",
    "plt.tick_params(labelleft=\"off\", left=\"off\")\n",
    "print(scipy.stats.skew(outdoor_PCEN_ravel))\n",
    "print(scipy.stats.kurtosis(outdoor_PCEN_ravel))\n",
    "plt.gca().axes.get_xaxis().set_visible(False)\n",
    "fig.savefig(subfolder_str + '_outdoor-PCEN_histogram.eps',\n",
    "    transparent=True, bbox_inches=\"tight\")"
   ]
  },
  {
   "cell_type": "code",
   "execution_count": 34,
   "metadata": {},
   "outputs": [
    {
     "data": {
      "text/plain": [
       "[<matplotlib.lines.Line2D at 0x2b0c210874a8>]"
      ]
     },
     "execution_count": 34,
     "metadata": {},
     "output_type": "execute_result"
    },
    {
     "data": {
      "image/png": "[encoded data removed]",
      "text/plain": [
       "<Figure size 432x288 with 1 Axes>"
      ]
     },
     "metadata": {
      "needs_background": "light"
     },
     "output_type": "display_data"
    }
   ],
   "source": [
    "waveform_file = sf.SoundFile(wav_path)\n",
    "waveform_length = len(waveform_file)\n",
    "sample_rate = waveform_file.samplerate\n",
    "waveform_file.seek(0)\n",
    "waveform = waveform_file.read(waveform_length)\n",
    "waveform = librosa.resample(\n",
    "    waveform, sample_rate, outdoor_settings[\"sr\"])\n",
    "waveform = waveform * (2**31)\n",
    "plt.plot(waveform)"
   ]
  },
  {
   "cell_type": "code",
   "execution_count": null,
   "metadata": {},
   "outputs": [],
   "source": []
  }
 ],
 "metadata": {
  "kernelspec": {
   "display_name": "Python 3",
   "language": "python",
   "name": "python3"
  },
  "language_info": {
   "codemirror_mode": {
    "name": "ipython",
    "version": 3
   },
   "file_extension": ".py",
   "mimetype": "text/x-python",
   "name": "python",
   "nbconvert_exporter": "python",
   "pygments_lexer": "ipython3",
   "version": "3.5.6"
  }
 },
 "nbformat": 4,
 "nbformat_minor": 2
}
