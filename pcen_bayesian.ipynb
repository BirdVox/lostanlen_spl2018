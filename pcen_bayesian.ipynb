{
 "cells": [
  {
   "cell_type": "code",
   "execution_count": 2,
   "metadata": {
    "collapsed": true
   },
   "outputs": [],
   "source": [
    "import glob\n",
    "import librosa\n",
    "import librosa.display\n",
    "from matplotlib import pyplot as plt\n",
    "import numpy as np\n",
    "import os\n",
    "import pystan\n",
    "import scipy\n",
    "import tqdm\n",
    "\n",
    "\n",
    "subfolders = [\"DCASE2013-pcen\", \"BirdVox-pcen\", \"SONYC-pcen\"]\n",
    "data_dir = '/beegfs/vl1019/spl2018_datasets'\n",
    "\n",
    "%matplotlib inline\n",
    "\n",
    "#sr=22050, hop_length=512, gain=0.98, bias=2, power=0.5,\n",
    "#         time_constant=0.400, eps=1e-6, b=None, max_size=1, ref=None,\n",
    "#axis=-1, max_axis=None\n",
    "\n",
    "settings = {\n",
    "    \"fmin\": 50,\n",
    "    \"fmax\": 10000,\n",
    "    \"hop_length\": 512,\n",
    "    \"n_fft\": 2048,\n",
    "    \"n_mels\": 128,\n",
    "    \"sr\": 22050,\n",
    "    \"win_length\": 1024,\n",
    "    \"window\": \"hann\",\n",
    "    \"T\": 0.400,\n",
    "    \"alpha\": 0.98, #0.96,\n",
    "    \"delta\": 2.0,\n",
    "    \"r\": 0.5,\n",
    "    \"eps\": 1e-6} #1e-10"
   ]
  },
  {
   "cell_type": "code",
   "execution_count": 3,
   "metadata": {
    "collapsed": false
   },
   "outputs": [
    {
     "name": "stderr",
     "output_type": "stream",
     "text": [
      "100%|██████████| 15/15 [00:34<00:00,  2.23s/it]\n"
     ]
    }
   ],
   "source": [
    "is_fig_saved = False\n",
    "subfolder_id = 1\n",
    "\n",
    "logE_list = []\n",
    "PCEN_list = []\n",
    "EoverM_list = []\n",
    "EoverMplusEps_list = []\n",
    "G_list = []\n",
    "\n",
    "subfolder_str = subfolders[subfolder_id]\n",
    "subfolder_dir = os.path.join(data_dir, subfolder_str)\n",
    "wav_names = list(glob.glob(os.path.join(subfolder_dir, \"*.wav\")))\n",
    "wav_paths = sorted([os.path.join(subfolder_dir, x) for x in wav_names])\n",
    "n_files = len(wav_paths)\n",
    "\n",
    "for file_id in tqdm.tqdm(range(n_files)):\n",
    "    wav_path = wav_paths[file_id]\n",
    "    waveform, fs = librosa.load(wav_path, sr=22050)\n",
    "\n",
    "    # Compute Short-Term Fourier Transform (STFT).\n",
    "    stft = librosa.stft(\n",
    "        waveform,\n",
    "        n_fft=settings[\"n_fft\"],\n",
    "        win_length=settings[\"win_length\"],\n",
    "        hop_length=settings[\"hop_length\"],\n",
    "        window=settings[\"window\"])\n",
    "\n",
    "\n",
    "    # Compute squared magnitude coefficients.\n",
    "    abs2_stft = (stft.real*stft.real) + (stft.imag*stft.imag)\n",
    "\n",
    "\n",
    "    # Gather frequency bins according to the Mel scale.\n",
    "    E = librosa.feature.melspectrogram(\n",
    "        y=None,\n",
    "        S=abs2_stft,\n",
    "        sr=settings[\"sr\"],\n",
    "        n_fft=settings[\"n_fft\"],\n",
    "        n_mels=settings[\"n_mels\"],\n",
    "        htk=True,\n",
    "        fmin=settings[\"fmin\"],\n",
    "        fmax=settings[\"fmax\"])    \n",
    "\n",
    "    EoverM = librosa.pcen(\n",
    "        S=E,\n",
    "        time_constant=settings[\"T\"],\n",
    "        sr=settings[\"sr\"],\n",
    "        hop_length=settings[\"hop_length\"],\n",
    "        gain=1.0,\n",
    "        power=1.0,\n",
    "        bias=settings[\"delta\"],\n",
    "        eps=1e-30) \n",
    "\n",
    "    EoverMplusEps = librosa.pcen(\n",
    "        S=E,\n",
    "        time_constant=settings[\"T\"],\n",
    "        sr=settings[\"sr\"],\n",
    "        hop_length=settings[\"hop_length\"],\n",
    "        gain=1.0,\n",
    "        power=1.0,\n",
    "        bias=settings[\"delta\"],\n",
    "        eps=settings[\"eps\"]) \n",
    "\n",
    "    G = librosa.pcen(\n",
    "        S=E,\n",
    "        time_constant=settings[\"T\"],\n",
    "        sr=settings[\"sr\"],\n",
    "        hop_length=settings[\"hop_length\"],\n",
    "        gain=settings[\"alpha\"],\n",
    "        power=1.0,\n",
    "        bias=settings[\"delta\"],\n",
    "        eps=settings[\"eps\"]) \n",
    "\n",
    "    PCEN = librosa.pcen(\n",
    "        S=E,\n",
    "        time_constant=settings[\"T\"],\n",
    "        sr=settings[\"sr\"],\n",
    "        hop_length=settings[\"hop_length\"],\n",
    "        gain=settings[\"alpha\"],\n",
    "        power=settings[\"r\"],\n",
    "        bias=settings[\"delta\"],\n",
    "        eps=settings[\"eps\"])\n",
    "\n",
    "    logE_list.append(np.log(E))\n",
    "    EoverM_list.append(EoverM)\n",
    "    EoverMplusEps_list.append(EoverMplusEps)\n",
    "    G_list.append(G)\n",
    "    PCEN_list.append(PCEN)\n",
    "\n",
    "logE = np.concatenate(logE_list, axis=1)\n",
    "EoverM = np.concatenate(EoverM_list, axis=1)\n",
    "EoverMplusEps = np.concatenate(EoverMplusEps_list, axis=1)\n",
    "G = np.concatenate(G_list, axis=1)\n",
    "PCEN = np.concatenate(PCEN_list, axis=1)\n",
    "\n",
    "logE_bn = (logE - np.mean(logE)) / np.std(logE)\n",
    "EoverM_bn = (EoverM - np.mean(EoverM)) / np.std(EoverM)\n",
    "EoverMplusEps_bn = (EoverMplusEps - np.mean(EoverMplusEps)) / np.std(EoverMplusEps)\n",
    "G_bn = (G - np.mean(G)) / np.std(G)\n",
    "PCEN_bn = (PCEN - np.mean(PCEN)) / np.std(PCEN)"
   ]
  },
  {
   "cell_type": "code",
   "execution_count": 5,
   "metadata": {
    "collapsed": false
   },
   "outputs": [
    {
     "name": "stderr",
     "output_type": "stream",
     "text": [
      "INFO:pystan:COMPILING THE C++ CODE FOR MODEL anon_model_3aaa1aff3be33470f8a5bfa56085d51c NOW.\n"
     ]
    },
    {
     "data": {
      "text/plain": [
       "OrderedDict([('mu', array(-0.20243788863522433))])"
      ]
     },
     "execution_count": 5,
     "metadata": {},
     "output_type": "execute_result"
    }
   ],
   "source": [
    "import pystan\n",
    "import numpy as np\n",
    "\n",
    "ocode = \"\"\"\n",
    "data {\n",
    "    int<lower=1> N;\n",
    "    real y[N];\n",
    "}\n",
    "parameters {\n",
    "    real mu;\n",
    "}\n",
    "model {\n",
    "    y ~ normal(mu, 1);\n",
    "}\n",
    "\"\"\"\n",
    "sm = pystan.StanModel(model_code=ocode)\n",
    "y2 = np.random.normal(size=20)\n",
    "np.mean(y2)\n",
    "\n",
    "op = sm.optimizing(data=dict(y=y2, N=len(y2)))\n",
    "\n",
    "op"
   ]
  },
  {
   "cell_type": "code",
   "execution_count": null,
   "metadata": {
    "collapsed": true
   },
   "outputs": [],
   "source": []
  }
 ],
 "metadata": {
  "kernelspec": {
   "display_name": "Python 3",
   "language": "python",
   "name": "python3"
  },
  "language_info": {
   "codemirror_mode": {
    "name": "ipython",
    "version": 3
   },
   "file_extension": ".py",
   "mimetype": "text/x-python",
   "name": "python",
   "nbconvert_exporter": "python",
   "pygments_lexer": "ipython3",
   "version": "3.6.0"
  }
 },
 "nbformat": 4,
 "nbformat_minor": 2
}
