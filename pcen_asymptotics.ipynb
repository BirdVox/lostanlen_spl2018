{
 "cells": [
  {
   "cell_type": "code",
   "execution_count": 1,
   "metadata": {
    "collapsed": true,
    "deletable": true,
    "editable": true
   },
   "outputs": [],
   "source": [
    "import librosa\n",
    "import librosa.display\n",
    "from matplotlib import pyplot as plt\n",
    "import numpy as np\n",
    "import os\n",
    "import scipy"
   ]
  },
  {
   "cell_type": "code",
   "execution_count": 159,
   "metadata": {
    "collapsed": false,
    "deletable": true,
    "editable": true
   },
   "outputs": [
    {
     "data": {
      "image/png": "[encoded data removed]",
      "text/plain": [
       "<matplotlib.figure.Figure at 0x2b22d91f8b00>"
      ]
     },
     "metadata": {},
     "output_type": "display_data"
    },
    {
     "data": {
      "image/png": "[encoded data removed]",
      "text/plain": [
       "<matplotlib.figure.Figure at 0x2b22da4463c8>"
      ]
     },
     "metadata": {},
     "output_type": "display_data"
    },
    {
     "data": {
      "image/png": "[encoded data removed]",
      "text/plain": [
       "<matplotlib.figure.Figure at 0x2b22dc04a1d0>"
      ]
     },
     "metadata": {},
     "output_type": "display_data"
    }
   ],
   "source": [
    "data_dir = '/beegfs/vl1019/BirdVox_datasets/BirdVox-pcen'\n",
    "wav_names = os.listdir(data_dir)\n",
    "wav_paths = sorted([os.path.join(data_dir, x) for x in wav_names])\n",
    "n_files = len(wav_paths)\n",
    "\n",
    "settings = {\n",
    "    \"fmin\": 0,\n",
    "    \"fmax\": 10000,\n",
    "    \"hop_length\": 1024,\n",
    "    \"n_fft\": 2048,\n",
    "    \"n_mels\": 128,\n",
    "    \"sr\": 22050,\n",
    "    \"win_length\": 2048,\n",
    "    \"window\": \"hann\",\n",
    "    \"T\": 0.05,#0.395,\n",
    "    \"alpha\": 0.98,\n",
    "    \"delta\": 2.0,\n",
    "    \"r\": 0.5,\n",
    "    \"eps\": 1e-10}\n",
    "\n",
    "file_id = 5\n",
    "wav_path = wav_paths[file_id]\n",
    "waveform, fs = librosa.load(wav_path, sr=22050)\n",
    "\n",
    "\n",
    "# Compute Short-Term Fourier Transform (STFT).\n",
    "stft = librosa.stft(\n",
    "    waveform,\n",
    "    n_fft=settings[\"n_fft\"],\n",
    "    win_length=settings[\"win_length\"],\n",
    "    hop_length=settings[\"hop_length\"],\n",
    "    window=settings[\"window\"])\n",
    "\n",
    "# Compute squared magnitude coefficients.\n",
    "abs2_stft = (stft.real*stft.real) + (stft.imag*stft.imag)\n",
    "\n",
    "# Gather frequency bins according to the Mel scale.\n",
    "E = librosa.feature.melspectrogram(\n",
    "    y=None,\n",
    "    S=abs2_stft,\n",
    "    sr=settings[\"sr\"],\n",
    "    n_fft=settings[\"n_fft\"],\n",
    "    n_mels=settings[\"n_mels\"],\n",
    "    htk=True,\n",
    "    fmin=settings[\"fmin\"],\n",
    "    fmax=settings[\"fmax\"])\n",
    "\n",
    "\n",
    "PCEN = librosa.pcen(\n",
    "    S=E,\n",
    "    time_constant=settings[\"T\"],\n",
    "    sr=settings[\"sr\"],\n",
    "    hop_length=settings[\"hop_length\"],\n",
    "    gain=settings[\"alpha\"],\n",
    "    power=settings[\"r\"],\n",
    "    bias=settings[\"delta\"],\n",
    "    eps=settings[\"eps\"])\n",
    "\n",
    "E_ravel = E.ravel()\n",
    "log_E_ravel = np.log(E_ravel)\n",
    "BC_ravel, lmbda = scipy.stats.boxcox(E_ravel)\n",
    "BC = scipy.stats.boxcox(E, lmbda=lmbda)\n",
    "PCEN_ravel = PCEN.ravel()\n",
    "\n",
    "%matplotlib inline\n",
    "fig = plt.figure()\n",
    "xgauss = np.linspace(-4, 4, 100)\n",
    "hist_x = plt.hist(\n",
    "    (log_E_ravel - np.mean(log_E_ravel)) / np.std(log_E_ravel), bins=xgauss);\n",
    "\n",
    "hist_step = np.diff(hist_x[1])[0]\n",
    "gaussmax = len(E_ravel)/np.sqrt(2*np.pi) * hist_step\n",
    "ygauss = gaussmax * np.exp(-(xgauss*xgauss)/2)\n",
    "plt.plot(xgauss, ygauss, '--', color=\"#E67300\", linewidth=4.0)\n",
    "plt.xlim([-4,4])\n",
    "plt.ylim([0, gaussmax*2])\n",
    "ax = plt.gca()\n",
    "ax.spines['top'].set_visible(False)\n",
    "ax.spines['left'].set_visible(False)\n",
    "ax.spines['right'].set_visible(False)\n",
    "plt.tick_params(labelleft=\"off\", left=\"off\")\n",
    "fig.savefig('logE_histogram.eps', transparent=True, bbox_inches=\"tight\")\n",
    "\n",
    "fig = plt.figure()\n",
    "plt.hist((BC_ravel - np.mean(BC_ravel)) / np.std(BC_ravel), bins=xgauss);\n",
    "plt.plot(xgauss, ygauss, '--', color=\"#E67300\", linewidth=4.0)\n",
    "plt.xlim([-4,4])\n",
    "plt.ylim([0, gaussmax*2])\n",
    "ax = plt.gca()\n",
    "ax.spines['top'].set_visible(False)\n",
    "ax.spines['left'].set_visible(False)\n",
    "ax.spines['right'].set_visible(False)\n",
    "plt.tick_params(labelleft=\"off\", left=\"off\")\n",
    "fig.savefig('BC_histogram.eps', transparent=True, bbox_inches=\"tight\")\n",
    "\n",
    "fig = plt.figure(frameon=False)\n",
    "plt.hist((PCEN_ravel - np.mean(PCEN_ravel)) / np.std(PCEN_ravel), bins=xgauss);\n",
    "plt.plot(xgauss, ygauss, '--', color=\"#E67300\", linewidth=4.0)\n",
    "plt.xlim([-4,4])\n",
    "plt.ylim([0, gaussmax*2])\n",
    "ax = plt.gca()\n",
    "ax.spines['top'].set_visible(False)\n",
    "ax.spines['left'].set_visible(False)\n",
    "ax.spines['right'].set_visible(False)\n",
    "plt.tick_params(labelleft=\"off\", left=\"off\")\n",
    "fig.savefig('PCEN_histogram.eps', transparent=True, bbox_inches=\"tight\")"
   ]
  },
  {
   "cell_type": "markdown",
   "metadata": {
    "deletable": true,
    "editable": true
   },
   "source": [
    "# "
   ]
  },
  {
   "cell_type": "code",
   "execution_count": null,
   "metadata": {
    "collapsed": true
   },
   "outputs": [],
   "source": [
    "figsize = (10,1.5)\n",
    "melmin = 65\n",
    "melmax = 100\n",
    "tmin = 100\n",
    "\n",
    "plt.figure(figsize=figsize)\n",
    "librosa.display.specshow(np.log10(E[melmin:melmax,tmin:]))\n",
    "\n",
    "plt.figure(figsize=figsize)\n",
    "librosa.display.specshow(BC[melmin:melmax,tmin:])\n",
    "\n",
    "plt.figure(figsize=figsize)\n",
    "librosa.display.specshow(PCEN[melmin:melmax,tmin:])"
   ]
  },
  {
   "cell_type": "code",
   "execution_count": 139,
   "metadata": {
    "collapsed": false,
    "deletable": true,
    "editable": true
   },
   "outputs": [
    {
     "data": {
      "text/plain": [
       "([<matplotlib.axis.YTick at 0x2b22d913ef98>,\n",
       "  <matplotlib.axis.YTick at 0x2b22da4a96d8>,\n",
       "  <matplotlib.axis.YTick at 0x2b22c99ef518>,\n",
       "  <matplotlib.axis.YTick at 0x2b22d9ec8128>,\n",
       "  <matplotlib.axis.YTick at 0x2b22d878b748>],\n",
       " <a list of 5 Text yticklabel objects>)"
      ]
     },
     "execution_count": 139,
     "metadata": {},
     "output_type": "execute_result"
    },
    {
     "data": {
      "image/png": "[encoded data removed]",
      "text/plain": [
       "<matplotlib.figure.Figure at 0x2b22d89ff160>"
      ]
     },
     "metadata": {},
     "output_type": "display_data"
    }
   ],
   "source": [
    "hop_length = settings[\"hop_length\"]\n",
    "time_constant = settings[\"T\"]\n",
    "eps = settings[\"eps\"]\n",
    "gain = settings[\"alpha\"]\n",
    "bias = settings[\"delta\"]\n",
    "power = settings[\"r\"]\n",
    "sr = settings[\"sr\"]\n",
    "\n",
    "\n",
    "b = 1 - np.exp(- float(hop_length) / (time_constant * sr))\n",
    "M = scipy.signal.lfilter([b], [1, b - 1], E)\n",
    "G = E * np.exp(-gain * (np.log(eps) + np.log1p(M / eps)))\n",
    "\n",
    "G = np.logspace(-2, 4, 241)\n",
    "PCEN = (G + bias)**power - bias**power\n",
    "\n",
    "pcen_melspec = librosa.pcen(\n",
    "    E, \n",
    "    sr=settings[\"sr\"],\n",
    "    hop_length=settings[\"hop_length\"],\n",
    "    gain=settings[\"alpha\"],\n",
    "    bias=settings[\"delta\"],\n",
    "    power=settings[\"r\"],\n",
    "    time_constant=settings[\"T\"],\n",
    "    eps=settings[\"eps\"])\n",
    "\n",
    "\n",
    "figsize = (4, 4)\n",
    "\n",
    "#plt.figure(figsize=figsize)\n",
    "#plt.plot(M.ravel(), E.ravel(), '.');\n",
    "#plt.xlim([0.0,0.1])\n",
    "#plt.ylim([0.0,0.1])\n",
    "\n",
    "#plt.figure(figsize=figsize)\n",
    "#plt.plot(M.ravel(), ((E/G).ravel()), '.');\n",
    "#plt.xlim([0.0,0.09])\n",
    "#plt.ylim([0.0,0.09])\n",
    "\n",
    "fig = plt.figure(figsize=figsize)\n",
    "\n",
    "min_G = 10**(-2.0)\n",
    "max_G = 10**(+2.0)\n",
    "\n",
    "\n",
    "legend_linear, = plt.plot(\n",
    "    10*np.log10(G),\n",
    "    10*np.log10(G * bias**(power-1) * power),\n",
    "    color=\"#0040FF\",\n",
    "    label=\"Linear\",\n",
    "    linewidth=3.0)\n",
    "\n",
    "plt.plot(\n",
    "    10*np.log10(G),\n",
    "    10*np.log10(np.maximum(1e-10, G * bias**(power-1) * power / (1 + (1-power)/2 * G))),\n",
    "    color=\"#0040FF\",\n",
    "    linewidth=3.0)\n",
    "\n",
    "plt.fill_between(\n",
    "    10*np.log10(G),\n",
    "    10*np.log10(G * bias**(power-1) * power),\n",
    "    10*np.log10(np.maximum(1e-10, G * bias**(power-1) * power / (1 + (1-power)/2 * G))),\n",
    "    alpha = 0.25,\n",
    "    color=\"#0040FF\")\n",
    "\n",
    "legend_compressive, = plt.plot(\n",
    "    10*np.log10(G),\n",
    "    10*np.log10(G ** power),\n",
    "    color=\"#E67300\",\n",
    "    label=\"Compressive\",\n",
    "    linewidth=3.0)\n",
    "\n",
    "plt.plot(\n",
    "    10*np.log10(G),\n",
    "    10*np.log10(np.maximum(1e-10, G**power /\n",
    "                        (1 + bias/G * (power + (G/bias)**(1-power))))),\n",
    "    color=\"#E67300\",\n",
    "    linewidth=3.0)\n",
    "\n",
    "plt.fill_between(\n",
    "    10*np.log10(G),\n",
    "    10*np.log10(np.maximum(1e-10, G**power /\n",
    "                        (1 + bias/G * (power + (G/bias)**(1-power))))),\n",
    "    10*np.log10(G ** power),\n",
    "    alpha = 0.33,\n",
    "    color=\"#E67300\"\n",
    ")\n",
    "\n",
    "legend_empirical, = plt.plot(\n",
    "    10*np.log10(G[::10]),\n",
    "    10*np.log10(PCEN[::10]),\n",
    "    'o',\n",
    "    color='k',\n",
    "    markersize=8.0,\n",
    "    label=\"Empirical\");\n",
    "\n",
    "fig.axes[0].grid('')\n",
    "\n",
    "leg = plt.legend(\n",
    "    handles=[legend_empirical, legend_linear, legend_compressive])\n",
    "leg.get_frame().set_alpha(1)\n",
    "\n",
    "plt.xlabel(\"Compressor input (dB)\")\n",
    "plt.ylabel(\"Compressor output (dB)\")\n",
    "\n",
    "plt.xlim([-20, 20])\n",
    "plt.xticks([-20, -10, 0, 10, 20])\n",
    "plt.ylim([-28, 12])\n",
    "plt.yticks([-20, -10, 0, 10, 20])\n",
    "\n",
    "fig.savefig('bode_compressor.eps', transparent=True, bbox_inches=\"tight\", dpi=1000)"
   ]
  },
  {
   "cell_type": "code",
   "execution_count": 73,
   "metadata": {
    "collapsed": false,
    "deletable": true,
    "editable": true
   },
   "outputs": [
    {
     "data": {
      "text/plain": [
       "(7, 10)"
      ]
     },
     "execution_count": 73,
     "metadata": {},
     "output_type": "execute_result"
    },
    {
     "data": {
      "image/png": "[encoded data removed]",
      "text/plain": [
       "<matplotlib.figure.Figure at 0x2b22cec04ac8>"
      ]
     },
     "metadata": {},
     "output_type": "display_data"
    }
   ],
   "source": [
    "M = eps * np.logspace(-2, 2, 21)\n",
    "denom = (M + eps)**(-gain)\n",
    "\n",
    "plt.figure(figsize=figsize)\n",
    "\n",
    "plt.plot(\n",
    "    np.log10(M),\n",
    "    np.log10(M**(-gain)),\n",
    "    color=\"#E67300\",\n",
    "    linewidth=3.0)\n",
    "plt.plot(\n",
    "    np.log10(M),\n",
    "    np.log10(np.maximum(1e-10,M**(-gain) / (1 + gain*eps/M))),\n",
    "    color=\"#E67300\",\n",
    "    linewidth=3.0)\n",
    "plt.fill_between(\n",
    "    np.log10(M),\n",
    "    np.log10(M**(-gain)),\n",
    "    np.log10(np.maximum(1e-10,M**(-gain) / (1 + gain*eps/M))),\n",
    "    alpha = 0.33,\n",
    "    color=\"#E67300\"\n",
    ")\n",
    "\n",
    "plt.plot(\n",
    "    np.log10(M),\n",
    "    np.log10(np.ones(M.size) * eps**(-gain)),\n",
    "    color=\"#0040FF\",\n",
    "    linewidth=3.0)\n",
    "plt.plot(\n",
    "    np.log10(M),\n",
    "    np.log10(np.maximum(1e-10, eps**(-gain) / (1 + gain*M/eps))),\n",
    "    color=\"#0040FF\",\n",
    "    linewidth=3.0)\n",
    "plt.fill_between(\n",
    "    np.log10(M),\n",
    "    np.log10(np.ones(M.size) * eps**(-gain)),\n",
    "    np.log10(np.maximum(1e-10,eps**(-gain) / (1 + gain*M/eps))),\n",
    "    alpha = 0.25,\n",
    "    color=\"#0040FF\"\n",
    ")\n",
    "\n",
    "plt.plot(np.log10(M), np.log10(denom),\n",
    "    'o',\n",
    "    color='k',\n",
    "    markersize=8.0)\n",
    "#plt.plot(np.log10(M), np.log10(np.maximum(1e-3,M**(-gain) * (1 - gain*eps/M))))\n",
    "\n",
    "plt.ylim(7, 10)"
   ]
  },
  {
   "cell_type": "code",
   "execution_count": null,
   "metadata": {
    "collapsed": true,
    "deletable": true,
    "editable": true
   },
   "outputs": [],
   "source": []
  },
  {
   "cell_type": "code",
   "execution_count": 595,
   "metadata": {
    "collapsed": false,
    "deletable": true,
    "editable": true
   },
   "outputs": [
    {
     "data": {
      "text/plain": [
       "(0.5, 100000.0)"
      ]
     },
     "execution_count": 595,
     "metadata": {},
     "output_type": "execute_result"
    },
    {
     "data": {
      "image/png": "[encoded data removed]",
      "text/plain": [
       "<matplotlib.figure.Figure at 0x2b278f8e7978>"
      ]
     },
     "metadata": {},
     "output_type": "display_data"
    }
   ],
   "source": [
    "from matplotlib import pyplot as plt\n",
    "import numpy as np\n",
    "%matplotlib inline\n",
    "\n",
    "#s = hop_length / (time_constant * sr) \n",
    "s = 1 / 40\n",
    "N = 10000\n",
    "ω0 = s\n",
    "ω = np.concatenate(\n",
    "    (np.logspace(-3.5, 0, 40)[:-2],\n",
    "     np.array([0.75, 0.81, 0.86, 0.9, 0.93, 0.95, 0.965, 0.975, 0.982, 0.987, 0.991, 0.994, 0.9965, 0.999])))\n",
    "π = np.pi\n",
    "α = 1 - ω\n",
    "\n",
    "#h_diff = ((2/s)/(2**2) + 1/s**2) * (2*π*ω)**2\n",
    "#h_lf = h_diff + 2\n",
    "#h_hf = (2/s * np.sin(2*π*ω/2)**2)**2 \n",
    "#h = (1 + 2/s * np.sin(2*π*ω/2)**2)**2 + (1/s * np.sin(2*π*ω))**2 the form below is simpler\n",
    "#plt.loglog(ω/ω0, h_diff, '-', color=\"#E67300\", linewidth=3.0)\n",
    "#plt.loglog(ω/ω0, h_lf, '-', color=\"#E67300\", linewidth=3.0)\n",
    "#plt.fill_between(\n",
    "#    ω/ω0, h_diff, h_lf, alpha = 0.33, color=\"#E67300\")\n",
    "#plt.plot(ω/ω0, np.minimum(h_diff, h_hf), '-', color=\"#E67300\", linewidth=3.0)\n",
    "#plt.fill_between(\n",
    "#    ω/ω0, h_hf, h_diff, alpha = 0.33, color=\"#E67300\")\n",
    "\n",
    "\n",
    "h = (1 + (1-s)**2 - 2 * (1-s) * np.cos(2*π*ω)) / s**2\n",
    "h_lfinf = 1.0 * np.ones(ω.size)\n",
    "h_lfsup = (2-s)**2/s**2 * np.ones(ω.size)\n",
    "h_hfinf = 2*(1-s)/(s**2) * (π*ω)**2\n",
    "h_hfsup = 1 + 4*(1+s)/(s**2) * (π*ω)**2\n",
    "\n",
    "\n",
    "plt.figure(figsize=figsize)\n",
    "\n",
    "\n",
    "\n",
    "plt.loglog(ω/ω0, h_lfsup, '-', color=\"#0040FF\", linewidth=3.0)\n",
    "plt.loglog(ω/ω0, h_lfinf, '-', color=\"#0040FF\", linewidth=3.0)\n",
    "plt.fill_between(\n",
    "    ω/ω0, h_lfinf, h_lfsup, alpha = 0.25, color=\"#0040FF\")\n",
    "\n",
    "plt.loglog(ω/ω0, h_hfinf, '-', color=\"#E67300\", linewidth=3.0)\n",
    "plt.loglog(ω/ω0, h_hfsup, '-', color=\"#E67300\", linewidth=3.0)\n",
    "plt.fill_between(\n",
    "    ω/ω0, h_hfinf, h_hfsup, alpha = 0.33, color=\"#E67300\")\n",
    "\n",
    "plt.loglog(ω[::2]/ω0, h[::2], 'o', color='k', markersize=8.0)\n",
    "\n",
    "plt.plot([0.5/ω0, 0.5 /ω0], [0.1, 1e6], '--', color='#990099')\n",
    "\n",
    "plt.xlim([np.min(ω/ω0), np.max(ω/ω0)])\n",
    "plt.ylim([0.5, 1e5])"
   ]
  },
  {
   "cell_type": "code",
   "execution_count": 121,
   "metadata": {
    "collapsed": false,
    "deletable": true,
    "editable": true
   },
   "outputs": [
    {
     "data": {
      "image/png": "[encoded data removed]",
      "text/plain": [
       "<matplotlib.figure.Figure at 0x2b22d891e208>"
      ]
     },
     "metadata": {},
     "output_type": "display_data"
    }
   ],
   "source": [
    "hist_x = plt.hist((log_E_ravel - np.mean(log_E_ravel)) / np.std(log_E_ravel), bins=500);\n"
   ]
  },
  {
   "cell_type": "code",
   "execution_count": 125,
   "metadata": {
    "collapsed": false
   },
   "outputs": [
    {
     "data": {
      "text/plain": [
       "0.014754969894787084"
      ]
     },
     "execution_count": 125,
     "metadata": {},
     "output_type": "execute_result"
    }
   ],
   "source": []
  },
  {
   "cell_type": "code",
   "execution_count": null,
   "metadata": {
    "collapsed": true
   },
   "outputs": [],
   "source": []
  }
 ],
 "metadata": {
  "kernelspec": {
   "display_name": "Python 3",
   "language": "python",
   "name": "python3"
  },
  "language_info": {
   "codemirror_mode": {
    "name": "ipython",
    "version": 3
   },
   "file_extension": ".py",
   "mimetype": "text/x-python",
   "name": "python",
   "nbconvert_exporter": "python",
   "pygments_lexer": "ipython3",
   "version": "3.6.0"
  }
 },
 "nbformat": 4,
 "nbformat_minor": 2
}
